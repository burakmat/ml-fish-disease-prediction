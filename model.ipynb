{
  "nbformat": 4,
  "nbformat_minor": 0,
  "metadata": {
    "colab": {
      "provenance": []
    },
    "kernelspec": {
      "name": "python3",
      "display_name": "Python 3"
    },
    "language_info": {
      "name": "python"
    }
  },
  "cells": [
    {
      "cell_type": "code",
      "source": [
        "!pip install xgboost"
      ],
      "metadata": {
        "id": "Ad5OtuAuYf1q"
      },
      "execution_count": null,
      "outputs": []
    },
    {
      "cell_type": "code",
      "execution_count": null,
      "metadata": {
        "id": "IwDbdQZPX9rf"
      },
      "outputs": [],
      "source": [
        "import os\n",
        "import pandas as pd\n",
        "import numpy as np\n",
        "import matplotlib.pyplot as plt\n",
        "import seaborn as sns\n",
        "import xgboost as xgb\n",
        "from sklearn.model_selection import train_test_split\n",
        "from sklearn.preprocessing import OneHotEncoder\n",
        "from sklearn.metrics import accuracy_score, confusion_matrix, roc_auc_score, roc_curve"
      ]
    },
    {
      "cell_type": "code",
      "source": [
        "folder_path = \"/content/data\""
      ],
      "metadata": {
        "id": "eSQhv0rAYIsz"
      },
      "execution_count": null,
      "outputs": []
    },
    {
      "cell_type": "code",
      "source": [
        "dataList = []"
      ],
      "metadata": {
        "id": "Hdi8BDPRYKs7"
      },
      "execution_count": null,
      "outputs": []
    },
    {
      "cell_type": "code",
      "source": [
        "for filename in os.listdir(folder_path):\n",
        "  file_path = os.path.join(folder_path, filename)\n",
        "  df = pd.read_excel(file_path)\n",
        "  dataList.append(df)"
      ],
      "metadata": {
        "id": "X6mEQBGzYKq7"
      },
      "execution_count": null,
      "outputs": []
    },
    {
      "cell_type": "code",
      "source": [
        "for i, df in enumerate(dataList):\n",
        "  df.insert(len(df.columns), \"pathogen\", df.columns[0])"
      ],
      "metadata": {
        "id": "TxtTDHEgYKop"
      },
      "execution_count": null,
      "outputs": []
    },
    {
      "cell_type": "code",
      "source": [
        "for i in range(7):\n",
        "  print(dataList[i].columns[0])"
      ],
      "metadata": {
        "id": "lDtJkl_lYKma"
      },
      "execution_count": null,
      "outputs": []
    },
    {
      "cell_type": "code",
      "source": [
        "dataList[0]"
      ],
      "metadata": {
        "id": "SXzDcaaBYKjy"
      },
      "execution_count": null,
      "outputs": []
    },
    {
      "cell_type": "code",
      "source": [
        "dataList = [df.drop(df.columns[[0,1,2]], axis=1) for df in dataList]"
      ],
      "metadata": {
        "id": "n8PyDZhaYKhp"
      },
      "execution_count": null,
      "outputs": []
    },
    {
      "cell_type": "code",
      "source": [
        "dataList[0]"
      ],
      "metadata": {
        "id": "nZkhiP5ZYKfY"
      },
      "execution_count": null,
      "outputs": []
    },
    {
      "cell_type": "code",
      "source": [
        "df_data = pd.concat(dataList, ignore_index=True)"
      ],
      "metadata": {
        "id": "thBhL4AWYKdQ"
      },
      "execution_count": null,
      "outputs": []
    },
    {
      "cell_type": "code",
      "source": [
        "df_data"
      ],
      "metadata": {
        "id": "ariJg5zTYKa2"
      },
      "execution_count": null,
      "outputs": []
    },
    {
      "cell_type": "code",
      "source": [
        "df_data.shape"
      ],
      "metadata": {
        "id": "NzyznNq4YKYf"
      },
      "execution_count": null,
      "outputs": []
    },
    {
      "cell_type": "code",
      "source": [
        "df_data.isnull().sum()"
      ],
      "metadata": {
        "id": "z3W_WBe1YKWF"
      },
      "execution_count": null,
      "outputs": []
    },
    {
      "cell_type": "code",
      "source": [
        "df_data.columns"
      ],
      "metadata": {
        "id": "q8PJnidAYXYD"
      },
      "execution_count": null,
      "outputs": []
    },
    {
      "cell_type": "code",
      "source": [
        "for column in df_data.columns:\n",
        "    df_data[column].fillna(df_data[column].mode()[0], inplace=True)"
      ],
      "metadata": {
        "id": "UMQIsvFwYXV6"
      },
      "execution_count": null,
      "outputs": []
    },
    {
      "cell_type": "code",
      "source": [
        "df_data"
      ],
      "metadata": {
        "id": "2qFNv7fbYXT4"
      },
      "execution_count": null,
      "outputs": []
    },
    {
      "cell_type": "code",
      "source": [
        "df_data.isnull().sum()"
      ],
      "metadata": {
        "id": "m9Fod708YXRt"
      },
      "execution_count": null,
      "outputs": []
    },
    {
      "cell_type": "code",
      "source": [
        "df_data.dtypes"
      ],
      "metadata": {
        "id": "ajOOZyhMYXPg"
      },
      "execution_count": null,
      "outputs": []
    },
    {
      "cell_type": "code",
      "source": [
        "df_data=df_data.astype('str')"
      ],
      "metadata": {
        "id": "WpvJCVb0YXNW"
      },
      "execution_count": null,
      "outputs": []
    },
    {
      "cell_type": "code",
      "source": [
        "X = df_data.iloc[:, :-1]\n",
        "y = df_data.iloc[:, -1]"
      ],
      "metadata": {
        "id": "guEnAbWMYXLN"
      },
      "execution_count": null,
      "outputs": []
    },
    {
      "cell_type": "code",
      "source": [
        "X.shape, y.shape"
      ],
      "metadata": {
        "id": "VV2Cboe9YtWK"
      },
      "execution_count": null,
      "outputs": []
    },
    {
      "cell_type": "code",
      "source": [
        "X_train, X_test, y_train, y_test = train_test_split(X, y, test_size = 0.2, random_state=0)"
      ],
      "metadata": {
        "id": "EakhP6WCYtUC"
      },
      "execution_count": null,
      "outputs": []
    },
    {
      "cell_type": "code",
      "source": [
        "X_train.shape, y_train.shape, X_test.shape, y_test.shape"
      ],
      "metadata": {
        "id": "DzaXvVOiYtRw"
      },
      "execution_count": null,
      "outputs": []
    },
    {
      "cell_type": "code",
      "source": [
        "enc = OneHotEncoder(drop='first', sparse_output=False, handle_unknown='ignore')\n",
        "\n",
        "X_train_encoded = enc.fit_transform(X_train)\n",
        "X_test_encoded = enc.transform(X_test)"
      ],
      "metadata": {
        "id": "MfuRQj8cYtPl"
      },
      "execution_count": null,
      "outputs": []
    },
    {
      "cell_type": "code",
      "source": [
        "feature_names = enc.get_feature_names_out(X_train.columns)\n",
        "\n",
        "X_train = pd.DataFrame(X_train_encoded, columns=feature_names)\n",
        "X_test = pd.DataFrame(X_test_encoded, columns=feature_names)"
      ],
      "metadata": {
        "id": "tFn2Oy9WYtNi"
      },
      "execution_count": null,
      "outputs": []
    },
    {
      "cell_type": "code",
      "source": [
        "y_train=y_train.replace({\n",
        "    \"vibrio\": 0,\n",
        "    \"Yersinia Ruckeri\": 1,\n",
        "    \"V.Salmoninarum\": 2,\n",
        "    \"Aeromonas spp.\": 3,\n",
        "    \"Flavobacter psychrophilum\": 4,\n",
        "    \"L.garvieae\": 5,\n",
        "    \"Pseudomonas spp.\": 6,\n",
        "})\n",
        "\n",
        "y_test=y_test.replace({\n",
        "    \"vibrio\": 0,\n",
        "    \"Yersinia Ruckeri\": 1,\n",
        "    \"V.Salmoninarum\": 2,\n",
        "    \"Aeromonas spp.\": 3,\n",
        "    \"Flavobacter psychrophilum\": 4,\n",
        "    \"L.garvieae\": 5,\n",
        "    \"Pseudomonas spp.\": 6,\n",
        "})"
      ],
      "metadata": {
        "id": "tX13JROGYtLY"
      },
      "execution_count": null,
      "outputs": []
    },
    {
      "cell_type": "code",
      "source": [
        "X_train.columns"
      ],
      "metadata": {
        "id": "DGeo1uPwYtJD"
      },
      "execution_count": null,
      "outputs": []
    },
    {
      "cell_type": "code",
      "source": [
        "model = xgb.XGBClassifier(\n",
        "    max_depth=3,\n",
        "    n_estimators=50\n",
        "    )"
      ],
      "metadata": {
        "id": "dbZBnYdzYtGy"
      },
      "execution_count": null,
      "outputs": []
    },
    {
      "cell_type": "code",
      "source": [
        "model.fit(X_train, y_train)"
      ],
      "metadata": {
        "id": "ip1rrkitY9Aa"
      },
      "execution_count": null,
      "outputs": []
    },
    {
      "cell_type": "code",
      "source": [
        "predictions = model.predict(X_test)\n",
        "predictions"
      ],
      "metadata": {
        "id": "5JbLJrTiY8-J"
      },
      "execution_count": null,
      "outputs": []
    },
    {
      "cell_type": "code",
      "source": [
        "predictions.shape"
      ],
      "metadata": {
        "id": "FgGM5YeaY88L"
      },
      "execution_count": null,
      "outputs": []
    },
    {
      "cell_type": "code",
      "source": [
        "xgb.plot_importance(model, importance_type='weight')"
      ],
      "metadata": {
        "id": "OgnHFangaHkh"
      },
      "execution_count": null,
      "outputs": []
    },
    {
      "cell_type": "code",
      "source": [
        "accuracy = accuracy_score(y_test, predictions) * 100\n",
        "print(\"Accuracy: %.2f\" % (accuracy))"
      ],
      "metadata": {
        "id": "-QHeXMz2Y86A"
      },
      "execution_count": null,
      "outputs": []
    },
    {
      "cell_type": "code",
      "source": [
        "# Confusion matrix\n",
        "sns.set(font_scale=1.4)\n",
        "sns.heatmap(conf_mat, annot=True, cmap='Blues', fmt='d', cbar=True, xticklabels=categories, yticklabels=categories)\n",
        "\n",
        "plt.xlabel('Predicted Labels')\n",
        "plt.ylabel('True Labels')\n",
        "plt.title('Confusion Matrix')\n",
        "plt.xticks(fontsize=8)\n",
        "plt.yticks(fontsize=8)\n",
        "\n",
        "plt.show()"
      ],
      "metadata": {
        "id": "-71EX4OkaIgd"
      },
      "execution_count": null,
      "outputs": []
    }
  ]
}